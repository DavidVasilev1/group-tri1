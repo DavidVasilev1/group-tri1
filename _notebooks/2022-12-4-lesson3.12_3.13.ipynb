{
 "cells": [
  {
   "cell_type": "markdown",
   "metadata": {},
   "source": [
    "# Lesson 3.12 & 3.13\n",
    "- toc: true\n",
    "- badges: false"
   ]
  }
 ],
 "metadata": {
  "language_info": {
   "name": "python"
  },
  "orig_nbformat": 4
 },
 "nbformat": 4,
 "nbformat_minor": 2
}
