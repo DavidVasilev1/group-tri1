{
 "cells": [
  {
   "cell_type": "markdown",
   "metadata": {},
   "source": [
    "# Lesson 3.12 & 3.13\n",
    "- toc: true\n",
    "- badges: false"
   ]
  },
  {
   "cell_type": "markdown",
   "metadata": {},
   "source": [
    "## Topic 3.12 (3.A) Calling & Understanding Procedures - Kaiden & Amay\n",
    "### Overview: Learning Objectives\n",
    "- Basics of Procedures\n",
    "- Calling Procedures\n",
    "- Determine Results of Procedures\n",
    "\n",
    "### What is a procedure?\n",
    "Essential Knowledge:\n",
    "- A **procedure** is a named set of instructions that can take in parameters and return values.\n",
    "    - May be called \"method\" or \"function\" in different programming languages.\n",
    "- **Parameters** are independent variables used in the procedure to produce a result. It allows a procedure to execute without initially knowing specific input values.\n",
    "- Procedures can be classified as sequencing, selection, and iteration. How?\n",
    "\n",
    "Example:\n",
    "- What is the procedure's name?\n",
    "- What are the parameters?\n",
    "- What did the procedure return?"
   ]
  },
  {
   "cell_type": "code",
   "execution_count": 2,
   "metadata": {},
   "outputs": [
    {
     "name": "stdout",
     "output_type": "stream",
     "text": [
      "The product of 5 times 3 is 15\n"
     ]
    }
   ],
   "source": [
    "x = 5\n",
    "y = 3\n",
    "\n",
    "def multiply(x, y):\n",
    "    product = x * y\n",
    "    return product\n",
    "\n",
    "answer = multiply(x, y)\n",
    "print(\"The product of\", x, \"times\", y, \"is\", answer)"
   ]
  },
  {
   "cell_type": "markdown",
   "metadata": {},
   "source": [
    "### Calling Procedures\n",
    "- To call a procedure you would write the **name of the procedure** followed by the **parentheses with the parameters** of the procedure\n",
    "- Procedures do not require parameters, but the parentheses must be there\n",
    "\n",
    "Ex: \n",
    "- procedureName(parameter1, parameter2, ...)\n",
    "- How would you call this procedure?"
   ]
  },
  {
   "cell_type": "code",
   "execution_count": 1,
   "metadata": {},
   "outputs": [],
   "source": [
    "num = 5\n",
    "def math(x):\n",
    "    op1 = x * 2\n",
    "    op2 = op1 - 9\n",
    "    return op2"
   ]
  },
  {
   "cell_type": "markdown",
   "metadata": {},
   "source": [
    "#### Quiz (Part of Hacks)\n",
    "Complete this quiz:"
   ]
  },
  {
   "cell_type": "code",
   "execution_count": null,
   "metadata": {},
   "outputs": [],
   "source": [
    "questionNum = 3\n",
    "correct = 0\n",
    "questions = [\n",
    "    \"What is are correct names for a procedure? \\n A) Method \\n B) Function \\n C) Both\",\n",
    "    \"What is a procedure? \\n A) Sequencing \\n B) Selection \\n C) Iteration \\n D) All\",\n",
    "    \"Use this for following question: \\n def inchesToFeet(lengthInches): \\n\\t lengthFeet = lengthInches / 12 \\n\\t return lengthFeet \\n\\n What is the procedure name, the parameter, and what the procedure returns? \\n A) feetToInches, lengthInches, lengthMeters \\n B) inchesToFeet, lengthInches, lengthFeet \\n C) inchesToFeet, lengthFeet, lengthInches \\n D) lengthInches, inchesToFeet, lengthFeet\"]\n",
    "answers = [\"c\", \"d\", \"b\"]\n",
    "\n",
    "def qna(question, answer):\n",
    "    print(\"Question:\", question)\n",
    "    response = input()\n",
    "    print(\"Answer:\", response)\n",
    "    \n",
    "    if response.lower() == answer:\n",
    "        print(\"Correct :) \\n\")\n",
    "        global correct\n",
    "        correct += 1\n",
    "    else:\n",
    "        print(\"Incorrect :( \\n\")\n",
    "for x in range(questionNum):\n",
    "    qna(questions[x], answers[x])\n",
    "    \n",
    "print(\"Score:\", correct, \"/ 3\")"
   ]
  },
  {
   "cell_type": "markdown",
   "metadata": {},
   "source": [
    "### Determining the Result of a Procedure\n",
    "- To determine the result of a procedure, you must follow the code line by line and see what each one does\n",
    "- Using syntax, you can determine the result by\n",
    "   - output parameters\n",
    "   - return codes\n",
    "- To use return codes, you have to write the syntax **return** followed by the variable you would like to return **var**\n",
    "\n",
    "Ex: \n",
    "- return x\n",
    "\n",
    "- This effectively exits a function and instructs python to continue executing the program and to return a certain value\n",
    "- Value can be string, a tuple, or any other object that is being sent back to the main program "
   ]
  },
  {
   "cell_type": "markdown",
   "metadata": {},
   "source": [
    "Figure out why this function doesn't work, \n",
    "Then convert the binary output into decimal form:"
   ]
  },
  {
   "cell_type": "code",
   "execution_count": 1,
   "metadata": {},
   "outputs": [
    {
     "name": "stdout",
     "output_type": "stream",
     "text": [
      "Cube: None\n"
     ]
    }
   ],
   "source": [
    "def find_cube(num):\n",
    "    result = bin(num * num * num) \n",
    "cube = find_cube(3)\n",
    "\n",
    "print('Cube:',cube)"
   ]
  },
  {
   "cell_type": "markdown",
   "metadata": {},
   "source": [
    "## Topic 3.13 (3.B) Managing Complexity - Safin"
   ]
  },
  {
   "cell_type": "markdown",
   "metadata": {},
   "source": [
    "## Topic 3.13 (3.C) Developing Procedures - David & Alex\n",
    "### Overview: Learning Objectives\n",
    "- parameters being used to manage complexity\n",
    "  - parameters storing variables\n",
    "  - parameters storing arguments\n",
    "- calling functions with procedure names\n",
    "  - choosing procedure names\n",
    "  - calling procedures in python and javascript\n",
    "\n",
    "### Vocabulary:\n",
    "- Procedure - a module of code that is created to complete a certain task, this is basically a function\n",
    "- Procedure Name - the name that is given to a function/procedure\n",
    "- Parameters - a variable that is used in a function to allow for data to be imported into a function\n",
    "- Arguments - a way to provide information to a function, usually defined outside a function and then imported into a function with parameters\n",
    "\n",
    "### Functions - Basic Structure\n",
    "\n",
    "Functions can be created in many different languages. Below are some examples in Collegeboard's format, Python, and Javascript.\n",
    "\n",
    "#### Collegeboard:\n",
    "\n",
    "![collegeboard-format](https://user-images.githubusercontent.com/111480448/206083549-4380cd04-187d-4786-9e40-6f87968cd3de.png)\n",
    "\n",
    "Above, the function is defined as ```PROCEDURE```, which tells the coder that this is a function. The function is then named with ```procName```, which is simply how the function is identified. ```parameter1, parameter2,...``` are variables that can be predefined elsewhere and repeatedly used in the same function. This will be gone over later in the lesson so don't worry if you don't get it. ```block of statements``` are just things that you would place inside a function to complete a certain task, such as ```print()``` in Python.\n",
    "\n",
    "#### Python:\n",
    "\n",
    "```bash\n",
    "def function(a,b): # function is defined\n",
    "  print(a+b) # prints output of variables\n",
    "\n",
    "function(1,2) # one instance that it can be used\n",
    "function(2,3) # another instance\n",
    "```\n",
    "\n",
    "```\n",
    "3\n",
    "5\n",
    "```\n",
    "\n",
    "Python is similar to the Collegeboard example, where ```def``` defines the function, ```function```, and then is followed by parameters ```a,b```, which can later be interchanged with any numbers as shown with ```function(1,2)```. In this case, the parameters are being added within the function and then printed.\n",
    "\n",
    "#### Javascript\n",
    "\n",
    "```javascript\n",
    "function Function(a,b) {\n",
    "  return a + b;\n",
    "}\n",
    "\n",
    "Function(1,2)\n",
    "Function(2,3)\n",
    "```\n",
    "\n",
    "```\n",
    "3\n",
    "5\n",
    "```\n",
    "\n",
    "Javascript in this case is almost the exact same as Python, the only differences being that function is called with ```function``` and that the formatting is a little different. Otherwise, it does the exact same thing as the Python example.\n",
    "\n",
    "#### Example\n",
    "\n",
    "```javascript\n",
    "function div(a,b) {\n",
    "  return (a+b)/2\n",
    "}\n",
    "\n",
    "div(3,7)\n",
    "```\n",
    "\n",
    "- What is the procedure name?\n",
    "- What are the parameters?\n",
    "- What operation is being done?\n",
    "- what would the output of this code be?\n",
    "\n",
    "### Parameters\n",
    "\n",
    "\n",
    "\n",
    "### Calling Functions\n"
   ]
  },
  {
   "cell_type": "markdown",
   "metadata": {},
   "source": [
    "## Hacks\n",
    "### Topic 3.12 (3.A):\n",
    "1. Define **procedure** and **parameter** in your own words\n",
    "2. Paste a **screenshot** of completion of the quiz\n",
    "3. Define **Return Values** in your own words\n",
    "4. Code a **procedure** that finds the square root of any given number. (make sure to call and return the function)\n",
    "\n",
    "\n",
    "### Topic 3.13 (3.B):\n",
    "1. \n",
    "\n",
    "\n",
    "### Topic 3.13 (3.C):\n",
    "1. "
   ]
  },
  {
   "cell_type": "markdown",
   "metadata": {},
   "source": [
    "### Rubric\n",
    "Each hack is worth 1/3 of a point\n",
    "- To get the 1/3 point for each hack you must:\n",
    "    - Complete each hack correctly and completely\n",
    "    - Submit by 8:00AM on <mark color=\"#ffffc2\">Tuesday, December 13</mark>\n",
    "- Anything missing or submitted late will have points deducted"
   ]
  }
 ],
 "metadata": {
  "kernelspec": {
   "display_name": "Python 3.8.10 64-bit",
   "language": "python",
   "name": "python3"
  },
  "language_info": {
   "codemirror_mode": {
    "name": "ipython",
    "version": 3
   },
   "file_extension": ".py",
   "mimetype": "text/x-python",
   "name": "python",
   "nbconvert_exporter": "python",
   "pygments_lexer": "ipython3",
   "version": "3.8.10"
  },
  "orig_nbformat": 4,
  "vscode": {
   "interpreter": {
    "hash": "916dbcbb3f70747c44a77c7bcd40155683ae19c65e1c03b4aa3499c5328201f1"
   }
  }
 },
 "nbformat": 4,
 "nbformat_minor": 2
}
