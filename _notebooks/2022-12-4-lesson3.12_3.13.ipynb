{
 "cells": [
  {
   "cell_type": "markdown",
   "metadata": {},
   "source": [
    "# Lesson 3.12 & 3.13\n",
    "- toc: true\n",
    "- badges: false"
   ]
  },
  {
   "cell_type": "markdown",
   "metadata": {},
   "source": [
    "## Topic 3.12 (3A) Calling & Understanding Procedures - Kaiden & Amay\n",
    "### Overview: Learning Objectives\n",
    "- Basics of Procedures\n",
    "- Calling Procedures\n",
    "- Determine Results of Procedures\n",
    "\n",
    "### What is a procedure?\n",
    "- A procedure is a named set of instructions that can take in parameters and return values.\n",
    "    - May be called \"method\" or \"function\" in different programming languages.\n",
    "- Parameters are independent variables used in the procedure to produce a result.\n",
    "- Procedures can be classified as sequencing, selection, and iteration. How?\n",
    "\n",
    "Example:\n",
    "- What is the procedure's name?\n",
    "- What are the parameters?\n",
    "- What did the procedure return?"
   ]
  },
  {
   "cell_type": "code",
   "execution_count": 9,
   "metadata": {},
   "outputs": [
    {
     "name": "stdout",
     "output_type": "stream",
     "text": [
      "The product of 5 times 3 is 15\n"
     ]
    }
   ],
   "source": [
    "x = 5\n",
    "y = 3\n",
    "\n",
    "def multiply(x, y):\n",
    "    product = x * y\n",
    "    return product\n",
    "\n",
    "answer = multiply(x, y)\n",
    "print(\"The product of\", x, \"times\", y, \"is\", answer)"
   ]
  },
  {
   "cell_type": "markdown",
   "metadata": {},
   "source": [
    "### Calling Procedures\n",
    "- To call a procedure you would write the **name of the procedure** followed by the **parentheses with the parameters** of the procedure\n",
    "- Procedures do not require parameters, but the parentheses must be there\n",
    "\n",
    "Ex: \n",
    "- procedureName(parameter1, parameter2, ...)\n",
    "- How would you call this procedure?"
   ]
  },
  {
   "cell_type": "code",
   "execution_count": 1,
   "metadata": {},
   "outputs": [],
   "source": [
    "num = 5\n",
    "def math(x):\n",
    "    op1 = x * 2\n",
    "    op2 = op1 - 9\n",
    "    return op2"
   ]
  },
  {
   "cell_type": "markdown",
   "metadata": {},
   "source": [
    "### Determining the Result of a Procedure\n",
    "- To determine the result of a procedure, you must follow the code line by line and see what each one does\n",
    "- Using syntax, you can determine the result by\n",
    "   - output parameters\n",
    "   - return codes\n",
    "- To use return codes, you have to write the syntax **return** followed by the variable you would like to return **var**\n",
    "\n",
    "Ex: \n",
    "- return x\n",
    "\n",
    "- This effectively exits a function and instructs python to continue executing the program and to return a certain value\n",
    "- Value can be string, a tuple, or any other object that is being sent back to the main program "
   ]
  },
  {
   "cell_type": "markdown",
   "metadata": {},
   "source": [
    "Figure out why this function doesn't work:"
   ]
  },
  {
   "cell_type": "code",
   "execution_count": 3,
   "metadata": {},
   "outputs": [
    {
     "name": "stdout",
     "output_type": "stream",
     "text": [
      "Cube: None\n"
     ]
    }
   ],
   "source": [
    "def find_cube(num):\n",
    "    result = num * num * num\n",
    "    \n",
    "cube = find_cube(3)\n",
    "\n",
    "print('Cube:',cube)"
   ]
  },
  {
   "cell_type": "markdown",
   "metadata": {},
   "source": [
    "#### Quiz (Part of Hacks)"
   ]
  },
  {
   "cell_type": "code",
   "execution_count": null,
   "metadata": {},
   "outputs": [],
   "source": []
  },
  {
   "cell_type": "markdown",
   "metadata": {},
   "source": [
    "## Topic 3.13 (3B) Managing Complexity - Safin"
   ]
  },
  {
   "cell_type": "markdown",
   "metadata": {},
   "source": [
    "## Topic 3.13 (3C) Developing Procedures - David & Alex"
   ]
  },
  {
   "cell_type": "markdown",
   "metadata": {},
   "source": [
    "## Hacks\n",
    "### Topic 3.12 (3A):\n",
    "1. Define **procedure** and **parameter** in your own words\n",
    "2. Paste a screenshot of completion of the quiz\n",
    "3. \n",
    "### Topic 3.13 (3B):\n",
    "1. \n",
    "### Topic 3.13 (3C):\n",
    "1. "
   ]
  }
 ],
 "metadata": {
  "kernelspec": {
   "display_name": "Python 3.9.12 ('base')",
   "language": "python",
   "name": "python3"
  },
  "language_info": {
   "codemirror_mode": {
    "name": "ipython",
    "version": 3
   },
   "file_extension": ".py",
   "mimetype": "text/x-python",
   "name": "python",
   "nbconvert_exporter": "python",
   "pygments_lexer": "ipython3",
   "version": "3.9.12"
  },
  "orig_nbformat": 4,
  "vscode": {
   "interpreter": {
    "hash": "e0fc684ee1127f33ee8cad036986f443a50d2cee061383c1e6132f75ec3c79dc"
   }
  }
 },
 "nbformat": 4,
 "nbformat_minor": 2
}
