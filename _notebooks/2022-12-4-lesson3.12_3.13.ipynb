{
 "cells": [
  {
   "cell_type": "markdown",
   "metadata": {},
   "source": [
    "# Lesson 3.12 & 3.13\n",
    "- toc: true\n",
    "- badges: false"
   ]
  },
  {
   "cell_type": "markdown",
   "metadata": {},
   "source": [
    "## Topic 3.12 (3A) Calling & Understanding Procedures - Kaiden & Amay\n",
    "### Overview: Learning Objectives\n",
    "- Basics of Procedures\n",
    "- Calling Procedures\n",
    "- Determine Results of Procedures\n",
    "\n",
    "### What is a procedure?\n",
    "Essential Knowledge:\n",
    "- A **procedure** is a named set of instructions that can take in parameters and return values.\n",
    "    - May be called \"method\" or \"function\" in different programming languages.\n",
    "- **Parameters** are independent variables used in the procedure to produce a result. It allows a procedure to execute without initially knowing specific input values.\n",
    "- Procedures can be classified as sequencing, selection, and iteration. How?\n",
    "\n",
    "Example:\n",
    "- What is the procedure's name?\n",
    "- What are the parameters?\n",
    "- What did the procedure return?"
   ]
  },
  {
   "cell_type": "code",
   "execution_count": 2,
   "metadata": {},
   "outputs": [
    {
     "name": "stdout",
     "output_type": "stream",
     "text": [
      "The product of 5 times 3 is 15\n"
     ]
    }
   ],
   "source": [
    "x = 5\n",
    "y = 3\n",
    "\n",
    "def multiply(x, y):\n",
    "    product = x * y\n",
    "    return product\n",
    "\n",
    "answer = multiply(x, y)\n",
    "print(\"The product of\", x, \"times\", y, \"is\", answer)"
   ]
  },
  {
   "cell_type": "markdown",
   "metadata": {},
   "source": [
    "### Calling Procedures\n",
    "- To call a procedure you would write the **name of the procedure** followed by the **parentheses with the parameters** of the procedure\n",
    "- Procedures do not require parameters, but the parentheses must be there\n",
    "\n",
    "Ex: \n",
    "- procedureName(parameter1, parameter2, ...)\n",
    "- How would you call this procedure?"
   ]
  },
  {
   "cell_type": "code",
   "execution_count": 1,
   "metadata": {},
   "outputs": [],
   "source": [
    "num = 5\n",
    "def math(x):\n",
    "    op1 = x * 2\n",
    "    op2 = op1 - 9\n",
    "    return op2"
   ]
  },
  {
   "cell_type": "markdown",
   "metadata": {},
   "source": [
    "#### Quiz (Part of Hacks)\n",
    "Complete this quiz:"
   ]
  },
  {
   "cell_type": "code",
   "execution_count": null,
   "metadata": {},
   "outputs": [],
   "source": [
    "questionNum = 3\n",
    "correct = 0\n",
    "questions = [\"What is are correct names for a procedure? \\n A) Method \\n B) Function \\n C) Both\", \"What is a procedure? \\n A) Sequencing \\n B) Selection \\n C) Iteration \\n D) All\", \"Use this for following question: \\n def inchesToFeet(lengthInches): \\n\\t lengthFeet = lengthInches / 12 \\n\\t return lengthFeet \\n\\n What is the procedure name, the parameter, and what the procedure returns? \\n A) feetToInches, lengthInches, lengthMeters \\n B) inchesToFeet, lengthInches, lengthFeet \\n C) inchesToFeet, lengthFeet, lengthInches \\n D) lengthInches, inchesToFeet, lengthFeet\"]\n",
    "answers = [\"c\", \"d\", \"b\"]\n",
    "\n",
    "def qna(question, answer):\n",
    "    print(\"Question:\", question)\n",
    "    response = input()\n",
    "    print(\"Answer:\", response)\n",
    "    \n",
    "    if response.lower() == answer:\n",
    "        print(\"Correct :) \\n\")\n",
    "        global correct\n",
    "        correct += 1\n",
    "    else:\n",
    "        print(\"Incorrect :( \\n\")\n",
    "for x in range(questionNum):\n",
    "    qna(questions[x], answers[x])\n",
    "    \n",
    "print(\"Score:\", correct, \"/ 3\")"
   ]
  },
  {
   "cell_type": "markdown",
   "metadata": {},
   "source": [
    "### Determining the Result of a Procedure\n",
    "- To determine the result of a procedure, you must follow the code line by line and see what each one does\n",
    "- Using syntax, you can determine the result by\n",
    "   - output parameters\n",
    "   - return codes\n",
    "- To use return codes, you have to write the syntax **return** followed by the variable you would like to return **var**\n",
    "\n",
    "Ex: \n",
    "- return x\n",
    "\n",
    "- This effectively exits a function and instructs python to continue executing the program and to return a certain value\n",
    "- Value can be string, a tuple, or any other object that is being sent back to the main program "
   ]
  },
  {
   "cell_type": "markdown",
   "metadata": {},
   "source": [
    "Figure out why this function doesn't work, \n",
    "Then convert the binary output into decimal form:"
   ]
  },
  {
   "cell_type": "code",
   "execution_count": 1,
   "metadata": {},
   "outputs": [
    {
     "name": "stdout",
     "output_type": "stream",
     "text": [
      "Cube: None\n"
     ]
    }
   ],
   "source": [
    "def find_cube(num):\n",
    "    result = bin(num * num * num) \n",
    "cube = find_cube(3)\n",
    "\n",
    "print('Cube:',cube)"
   ]
  },
  {
   "cell_type": "markdown",
   "metadata": {},
   "source": [
    "## Topic 3.13 (3B) Managing Complexity - Safin"
   ]
  },
  {
   "cell_type": "markdown",
   "metadata": {},
   "source": [
    "## Topic 3.13 (3C) Developing Procedures - David & Alex"
   ]
  },
  {
   "cell_type": "markdown",
   "metadata": {},
   "source": [
    "## Hacks\n",
    "### Topic 3.12 (3A):\n",
    "1. Define **procedure** and **parameter** in your own words\n",
    "2. Paste a **screenshot** of completion of the quiz\n",
    "3. Define **Return Values** in your own words\n",
    "4. Code a **procedure** that finds the square root of any given number. (make sure to call and return the function)\n",
    "### Topic 3.13 (3B):\n",
    "1. \n",
    "### Topic 3.13 (3C):\n",
    "1. "
   ]
  },
  {
   "cell_type": "markdown",
   "metadata": {},
   "source": [
    "### Rubric\n",
    "Each hack is worth 1/3 of a point\n",
    "- To get the 1/3 point for each hack you must:\n",
    "    - Complete each hack correctly and completely\n",
    "    - Submit by 8:00AM on Tuesday, December 13\n",
    "- Anything missing or submitted late will have points deducted"
   ]
  }
 ],
 "metadata": {
  "kernelspec": {
   "display_name": "Python 3.8.10 64-bit",
   "language": "python",
   "name": "python3"
  },
  "language_info": {
   "codemirror_mode": {
    "name": "ipython",
    "version": 3
   },
   "file_extension": ".py",
   "mimetype": "text/x-python",
   "name": "python",
   "nbconvert_exporter": "python",
   "pygments_lexer": "ipython3",
   "version": "3.8.10"
  },
  "orig_nbformat": 4,
  "vscode": {
   "interpreter": {
    "hash": "916dbcbb3f70747c44a77c7bcd40155683ae19c65e1c03b4aa3499c5328201f1"
   }
  }
 },
 "nbformat": 4,
 "nbformat_minor": 2
}
