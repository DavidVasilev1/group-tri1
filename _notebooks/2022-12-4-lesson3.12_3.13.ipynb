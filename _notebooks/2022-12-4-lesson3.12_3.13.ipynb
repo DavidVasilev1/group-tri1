{
 "cells": [
  {
   "cell_type": "markdown",
   "metadata": {},
   "source": [
    "# Lesson 3.12 & 3.13\n",
    "- toc: true\n",
    "- badges: false"
   ]
  },
  {
   "cell_type": "markdown",
   "metadata": {},
   "source": [
    "## Topic 3.12 (3.A) Calling & Understanding Procedures - Kaiden & Amay\n",
    "### Overview: Learning Objectives\n",
    "- Basics of Procedures\n",
    "- Calling Procedures\n",
    "- Determine Results of Procedures\n",
    "\n",
    "### What is a procedure?\n",
    "Essential Knowledge:\n",
    "- A **procedure** is a named set of instructions that can take in parameters and return values.\n",
    "    - May be called \"method\" or \"function\" in different programming languages.\n",
    "- **Parameters** are independent variables used in the procedure to produce a result. It allows a procedure to execute without initially knowing specific input values.\n",
    "- Procedures can be classified as sequencing, selection, and iteration. How?\n",
    "\n",
    "Example:\n",
    "- What is the procedure's name?\n",
    "- What are the parameters?\n",
    "- What did the procedure return?"
   ]
  },
  {
   "cell_type": "code",
   "execution_count": 2,
   "metadata": {
    "vscode": {
     "languageId": "javascript"
    }
   },
   "outputs": [
    {
     "name": "stdout",
     "output_type": "stream",
     "text": [
      "The product of 5 times 3 is 15\n"
     ]
    }
   ],
   "source": [
    "x = 5\n",
    "y = 3\n",
    "\n",
    "def multiply(x, y):\n",
    "    product = x * y\n",
    "    return product\n",
    "\n",
    "answer = multiply(x, y)\n",
    "print(\"The product of\", x, \"times\", y, \"is\", answer)"
   ]
  },
  {
   "cell_type": "markdown",
   "metadata": {},
   "source": [
    "### Calling Procedures\n",
    "- To call a procedure you would write the **name of the procedure** followed by the **parentheses with the parameters** of the procedure\n",
    "- Procedures do not require parameters, but the parentheses must be there\n",
    "\n",
    "Ex: \n",
    "- procedureName(parameter1, parameter2, ...)\n",
    "- How would you call this procedure?"
   ]
  },
  {
   "cell_type": "code",
   "execution_count": 1,
   "metadata": {
    "vscode": {
     "languageId": "javascript"
    }
   },
   "outputs": [],
   "source": [
    "num = 5\n",
    "def math(x):\n",
    "    op1 = x * 2\n",
    "    op2 = op1 - 9\n",
    "    return op2"
   ]
  },
  {
   "cell_type": "markdown",
   "metadata": {},
   "source": [
    "#### Quiz (Part of Hacks)\n",
    "Complete this quiz:"
   ]
  },
  {
   "cell_type": "code",
   "execution_count": null,
   "metadata": {
    "vscode": {
     "languageId": "javascript"
    }
   },
   "outputs": [],
   "source": [
    "questionNum = 3\n",
    "correct = 0\n",
    "questions = [\n",
    "    \"What is are correct names for a procedure? \\n A) Method \\n B) Function \\n C) Both\",\n",
    "    \"What is a procedure? \\n A) Sequencing \\n B) Selection \\n C) Iteration \\n D) All\",\n",
    "    \"Use this for following question: \\n def inchesToFeet(lengthInches): \\n\\t lengthFeet = lengthInches / 12 \\n\\t return lengthFeet \\n\\n What is the procedure name, the parameter, and what the procedure returns? \\n A) feetToInches, lengthInches, lengthMeters \\n B) inchesToFeet, lengthInches, lengthFeet \\n C) inchesToFeet, lengthFeet, lengthInches \\n D) lengthInches, inchesToFeet, lengthFeet\"]\n",
    "answers = [\"c\", \"d\", \"b\"]\n",
    "\n",
    "def qna(question, answer):\n",
    "    print(\"Question:\", question)\n",
    "    response = input()\n",
    "    print(\"Answer:\", response)\n",
    "    \n",
    "    if response.lower() == answer:\n",
    "        print(\"Correct :) \\n\")\n",
    "        global correct\n",
    "        correct += 1\n",
    "    else:\n",
    "        print(\"Incorrect :( \\n\")\n",
    "for x in range(questionNum):\n",
    "    qna(questions[x], answers[x])\n",
    "    \n",
    "print(\"Score:\", correct, \"/ 3\")"
   ]
  },
  {
   "cell_type": "markdown",
   "metadata": {},
   "source": [
    "### Determining the Result of a Procedure\n",
    "- To determine the result of a procedure, you must follow the code line by line and see what each one does\n",
    "- Using syntax, you can determine the result by\n",
    "   - output parameters\n",
    "   - return codes\n",
    "- To use return codes, you have to write the syntax **return** followed by the variable you would like to return **var**\n",
    "\n",
    "Ex: \n",
    "- return x\n",
    "\n",
    "- This effectively exits a function and instructs python to continue executing the program and to return a certain value\n",
    "- Value can be string, a tuple, or any other object that is being sent back to the main program "
   ]
  },
  {
   "cell_type": "markdown",
   "metadata": {},
   "source": [
    "Figure out why this function doesn't work, \n",
    "Then convert the binary output into decimal form:"
   ]
  },
  {
   "cell_type": "code",
   "execution_count": 1,
   "metadata": {
    "vscode": {
     "languageId": "javascript"
    }
   },
   "outputs": [
    {
     "name": "stdout",
     "output_type": "stream",
     "text": [
      "Cube: None\n"
     ]
    }
   ],
   "source": [
    "def find_cube(num):\n",
    "    result = bin(num * num * num) \n",
    "cube = find_cube(3)\n",
    "\n",
    "print('Cube:',cube)"
   ]
  },
  {
   "cell_type": "markdown",
   "metadata": {},
   "source": [
    "## Topic 3.13 (3.B) Managing Complexity - Safin"
   ]
  },
  {
   "cell_type": "markdown",
   "metadata": {},
   "source": [
    "## Topic 3.13 (3.C) Developing Procedures - David & Alex\n",
    "### Overview: Learning Objectives\n",
    "- parameters being used to manage complexity\n",
    "  - parameters storing variables\n",
    "  - parameters storing arguments\n",
    "- calling functions with procedure names\n",
    "  - choosing procedure names\n",
    "  - calling procedures in python and javascript\n",
    "\n",
    "### Vocabulary:\n",
    "- Procedure - a module of code that is created to complete a certain task, this is basically a function\n",
    "- Procedure Name - the name that is given to a function/procedure\n",
    "- Parameters - a variable that is used in a function to allow for data to be imported into a function\n",
    "- Arguments - a way to provide information to a function, usually defined outside a function and then imported into a function with parameters\n",
    "\n",
    "### Functions - Basic Structure\n",
    "\n",
    "Functions can be created in many different languages. Below are some examples in Collegeboard's format, Python, and Javascript.\n",
    "\n",
    "#### Collegeboard:\n",
    "\n",
    "![collegeboard-format](https://user-images.githubusercontent.com/111480448/206083549-4380cd04-187d-4786-9e40-6f87968cd3de.png)\n",
    "\n",
    "Above, the function is defined as ```PROCEDURE```, which tells the coder that this is a function. The function is then named with ```procName```, which is simply how the function is identified. ```parameter1, parameter2,...``` are variables that can be predefined elsewhere and repeatedly used in the same function. This will be gone over later in the lesson so don't worry if you don't get it. ```block of statements``` are just things that you would place inside a function to complete a certain task, such as ```print()``` in Python.\n",
    "\n",
    "#### Python:\n",
    "\n",
    "```bash\n",
    "def function(a,b): # function is defined\n",
    "  print(a+b) # prints output of variables\n",
    "\n",
    "function(1,2) # one instance that it can be used\n",
    "function(2,3) # another instance\n",
    "```\n",
    "\n",
    "```\n",
    "3\n",
    "5\n",
    "```\n",
    "\n",
    "Python is similar to the Collegeboard example, where ```def``` defines the function, ```function```, and then is followed by parameters ```a,b```, which can later be interchanged with any numbers as shown with ```function(1,2)```. The numbers are called arguments, which are information provided to the function with parameters. In this case, the parameters are being added within the function and then printed.\n",
    "\n",
    "#### Javascript\n",
    "\n",
    "```javascript\n",
    "function Function(a,b) {\n",
    "  return a + b;\n",
    "}\n",
    "\n",
    "Function(1,2)\n",
    "Function(2,3)\n",
    "```\n",
    "\n",
    "```\n",
    "3\n",
    "5\n",
    "```\n",
    "\n",
    "Javascript in this case is almost the exact same as Python, the only differences being that function is called with ```function``` and that the formatting is a little different. Otherwise, it does the exact same thing as the Python example.\n",
    "\n",
    "#### Example\n",
    "\n",
    "```javascript\n",
    "function div(a,b) {\n",
    "  return (a+b)/2\n",
    "}\n",
    "\n",
    "div(3,7)\n",
    "```\n",
    "\n",
    "- What is the procedure name?\n",
    "- What are the parameters?\n",
    "- What operation is being done?\n",
    "- what would the output of this code be?\n",
    "\n"
   ]
  },
  {
   "cell_type": "markdown",
   "metadata": {},
   "source": [
    "### Vocab review\n",
    "- Procedure - a module of code that is created to complete a certain task, this is basically a function\n",
    "- Procedure Name - the name that is given to a function/procedure\n",
    "- Parameters - a variable that is used in a function to allow for data to be imported into a function\n",
    "- Arguments - a way to provide information to a function, usually defined outside a function and then imported into a function with parameters\n",
    "\n",
    "### Parameters\n",
    "- In functions, there are sometimes parameters that the functions have in which you can call to the function giving arguements that will provide input to the function\n",
    "For example:\n"
   ]
  },
  {
   "cell_type": "code",
   "execution_count": 3,
   "metadata": {},
   "outputs": [
    {
     "name": "stdout",
     "output_type": "stream",
     "text": [
      "num1 is less than num 2\n"
     ]
    }
   ],
   "source": [
    "def function(num1, num2):\n",
    "    if num1 > num2:\n",
    "        print(\"num1 is greater than num2\")\n",
    "    elif num1 <num2:\n",
    "        print(\"num1 is less than num 2\")\n",
    "\n",
    "num1= 6\n",
    "num2 = 8\n",
    "function(num1,num2)"
   ]
  },
  {
   "cell_type": "markdown",
   "metadata": {},
   "source": [
    "- In this ````function```, it takes in two parameters ```num1``` and ```num2```\n",
    "- Whithin this function it uses conditionals to determine if num 1 is larger or smaller than num2\n",
    "- When calling to this ```function``` we must put in two arguements, num1 and num2 respectively\n",
    "- We put in 6 for num1 and 8 for num2 and the algorithm runs and gives us an outcome\n",
    "\n",
    "This basic function in python can be recreated in Javasript\n",
    "\n",
    "```javascript\n",
    "function compare(a,b) {\n",
    "    if(a>b) {\n",
    "        console.log(\"a is greater than b\")\n",
    "    } else if (a<b) {\n",
    "        console.log(\"a is less than b\")\n",
    "    }\n",
    "}\n",
    "compare(1,5)\n",
    "```\n",
    "\n",
    "- what are the parameters?\n",
    "- What is the output?\n",
    "- what are the arguements?\n",
    "\n",
    "\n",
    "### Calling functions\n",
    "\n",
    "- When calling functions, you have to ask yourself some questions\n",
    "  - Does the function have any parameters?\n",
    "  - does the parameter have output?\n",
    "- Depending on these answers, the way you will call to a function will be different\n",
    "\n",
    "Example where it does does have parameters and gives output\n",
    "\n",
    "```python\n",
    "def InchestoFeet(inches):\n",
    "    Feet = 0\n",
    "    Feet = inches / 12\n",
    "    return Feet\n",
    "result = InchestoFeet(24)\n",
    "print(result)\n",
    "```\n",
    "```\n",
    "2\n",
    "```\n",
    "\n",
    "- If you look closely, there is a ```return``` at the end of the function, this returns a value when you call the function\n",
    "- This is why we have to set a variable, in this case ```result``` equal to the output of the function. \n",
    "- Also one thing to notice is that this function also takes in a parameter called inches"
   ]
  },
  {
   "cell_type": "markdown",
   "metadata": {},
   "source": [
    "### Calling Functions"
   ]
  },
  {
   "cell_type": "markdown",
   "metadata": {},
   "source": [
    "## Hacks\n",
    "### Topic 3.12 (3.A):\n",
    "1. Define **procedure** and **parameter** in your own words\n",
    "2. Paste a **screenshot** of completion of the quiz\n",
    "3. Define **Return Values** in your own words\n",
    "4. Code a **procedure** that finds the square root of any given number. (make sure to call and return the function)\n",
    "\n",
    "\n",
    "### Topic 3.13 (3.B):\n",
    "1. \n",
    "\n",
    "\n",
    "### Topic 3.13 (3.C):\n",
    "1. Define **procedure names** and **arguments** in your own words.\n",
    "2. Code some **procedures** that use **arguments** and **parameters** with Javascript and HTML (make sure they are interactive on your hacks page, allowing the user to input numbers and click a button to produce an output)\n",
    "  - Add two numbers\n",
    "  - Subtract two numbers\n",
    "  - Multiply two numbers\n",
    "  - Divide two numbers"
   ]
  },
  {
   "cell_type": "markdown",
   "metadata": {},
   "source": [
    "### Rubric\n",
    "Each hack is worth 0.3 points\n",
    "- To get 0.3 points for each hack you must:\n",
    "    - Complete each hack correctly and completely\n",
    "    - Submit by 11:59PM on <mark color=\"#ffffc2\">Friday, December 9</mark>\n",
    "- The last 0.1 points are if you do a good job on the binary calculator.\n",
    "- Anything missing or submitted late will have points deducted."
   ]
  }
 ],
 "metadata": {
  "kernelspec": {
   "display_name": "Python 3.8.10 64-bit",
   "language": "python",
   "name": "python3"
  },
  "language_info": {
   "codemirror_mode": {
    "name": "ipython",
    "version": 3
   },
   "file_extension": ".py",
   "mimetype": "text/x-python",
   "name": "python",
   "nbconvert_exporter": "python",
   "pygments_lexer": "ipython3",
   "version": "3.8.10"
  },
  "orig_nbformat": 4,
  "vscode": {
   "interpreter": {
    "hash": "916dbcbb3f70747c44a77c7bcd40155683ae19c65e1c03b4aa3499c5328201f1"
   }
  }
 },
 "nbformat": 4,
 "nbformat_minor": 2
}
